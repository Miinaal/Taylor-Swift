{
 "cells": [
  {
   "cell_type": "code",
   "execution_count": 1,
   "id": "e7dd0d6f",
   "metadata": {
    "execution": {
     "iopub.execute_input": "2024-01-13T15:57:58.280138Z",
     "iopub.status.busy": "2024-01-13T15:57:58.279710Z",
     "iopub.status.idle": "2024-01-13T15:58:01.233257Z",
     "shell.execute_reply": "2024-01-13T15:58:01.232347Z"
    },
    "papermill": {
     "duration": 2.961507,
     "end_time": "2024-01-13T15:58:01.235713",
     "exception": false,
     "start_time": "2024-01-13T15:57:58.274206",
     "status": "completed"
    },
    "tags": []
   },
   "outputs": [
    {
     "name": "stdout",
     "output_type": "stream",
     "text": [
      "/kaggle/input/taylor-swifts-youtube-stats-symphony/taylor_swift_videos.csv\n"
     ]
    }
   ],
   "source": [
    "import pandas as pd\n",
    "import numpy as np\n",
    "import seaborn as sns\n",
    "import matplotlib.pyplot as plt\n",
    "import plotly.express as px\n",
    "import plotly.graph_objects as go\n",
    "import plotly.subplots as sp\n",
    "\n",
    "import os\n",
    "for dirname, _, filenames in os.walk('/kaggle/input'):\n",
    "    for filename in filenames:\n",
    "        print(os.path.join(dirname, filename))\n"
   ]
  },
  {
   "cell_type": "code",
   "execution_count": 2,
   "id": "1f378ad2",
   "metadata": {
    "execution": {
     "iopub.execute_input": "2024-01-13T15:58:01.245753Z",
     "iopub.status.busy": "2024-01-13T15:58:01.244676Z",
     "iopub.status.idle": "2024-01-13T15:58:01.286287Z",
     "shell.execute_reply": "2024-01-13T15:58:01.285486Z"
    },
    "papermill": {
     "duration": 0.049092,
     "end_time": "2024-01-13T15:58:01.288755",
     "exception": false,
     "start_time": "2024-01-13T15:58:01.239663",
     "status": "completed"
    },
    "tags": []
   },
   "outputs": [
    {
     "data": {
      "text/html": [
       "<div>\n",
       "<style scoped>\n",
       "    .dataframe tbody tr th:only-of-type {\n",
       "        vertical-align: middle;\n",
       "    }\n",
       "\n",
       "    .dataframe tbody tr th {\n",
       "        vertical-align: top;\n",
       "    }\n",
       "\n",
       "    .dataframe thead th {\n",
       "        text-align: right;\n",
       "    }\n",
       "</style>\n",
       "<table border=\"1\" class=\"dataframe\">\n",
       "  <thead>\n",
       "    <tr style=\"text-align: right;\">\n",
       "      <th></th>\n",
       "      <th>title</th>\n",
       "      <th>published_at</th>\n",
       "      <th>duration</th>\n",
       "      <th>view_count</th>\n",
       "    </tr>\n",
       "  </thead>\n",
       "  <tbody>\n",
       "    <tr>\n",
       "      <th>0</th>\n",
       "      <td>Taylor Swift - You're Losing Me (From The Vault)</td>\n",
       "      <td>2023-11-29T13:00:47Z</td>\n",
       "      <td>PT4M39S</td>\n",
       "      <td>7278886</td>\n",
       "    </tr>\n",
       "    <tr>\n",
       "      <th>1</th>\n",
       "      <td>Rent on demand starting … you guessed it, Dece...</td>\n",
       "      <td>2023-11-27T20:21:45Z</td>\n",
       "      <td>PT1M1S</td>\n",
       "      <td>1050064</td>\n",
       "    </tr>\n",
       "    <tr>\n",
       "      <th>2</th>\n",
       "      <td>✨🫶 My name is Taylor and I was born in 1989 🫶✨</td>\n",
       "      <td>2023-10-31T20:08:57Z</td>\n",
       "      <td>PT19S</td>\n",
       "      <td>1196267</td>\n",
       "    </tr>\n",
       "    <tr>\n",
       "      <th>3</th>\n",
       "      <td>Taylor Swift - Cruel Summer (LP Giobbi Remix)</td>\n",
       "      <td>2023-10-19T00:30:06Z</td>\n",
       "      <td>PT3M19S</td>\n",
       "      <td>696792</td>\n",
       "    </tr>\n",
       "    <tr>\n",
       "      <th>4</th>\n",
       "      <td>Taylor Swift - Cruel Summer (Live from Taylor ...</td>\n",
       "      <td>2023-10-19T00:30:25Z</td>\n",
       "      <td>PT3M55S</td>\n",
       "      <td>3437493</td>\n",
       "    </tr>\n",
       "    <tr>\n",
       "      <th>...</th>\n",
       "      <td>...</td>\n",
       "      <td>...</td>\n",
       "      <td>...</td>\n",
       "      <td>...</td>\n",
       "    </tr>\n",
       "    <tr>\n",
       "      <th>218</th>\n",
       "      <td>First fans with my CMT Award.</td>\n",
       "      <td>2008-06-26T21:55:43Z</td>\n",
       "      <td>PT11S</td>\n",
       "      <td>337626</td>\n",
       "    </tr>\n",
       "    <tr>\n",
       "      <th>219</th>\n",
       "      <td>TRL Recap!</td>\n",
       "      <td>2008-06-26T21:15:51Z</td>\n",
       "      <td>PT3M8S</td>\n",
       "      <td>742898</td>\n",
       "    </tr>\n",
       "    <tr>\n",
       "      <th>220</th>\n",
       "      <td>Wannabe</td>\n",
       "      <td>2008-06-26T21:02:39Z</td>\n",
       "      <td>PT3M45S</td>\n",
       "      <td>1217405</td>\n",
       "    </tr>\n",
       "    <tr>\n",
       "      <th>221</th>\n",
       "      <td>:-)</td>\n",
       "      <td>2008-06-26T20:51:09Z</td>\n",
       "      <td>PT34S</td>\n",
       "      <td>805812</td>\n",
       "    </tr>\n",
       "    <tr>\n",
       "      <th>222</th>\n",
       "      <td>Should've Said No</td>\n",
       "      <td>2008-06-26T15:47:41Z</td>\n",
       "      <td>PT4M22S</td>\n",
       "      <td>7313288</td>\n",
       "    </tr>\n",
       "  </tbody>\n",
       "</table>\n",
       "<p>223 rows × 4 columns</p>\n",
       "</div>"
      ],
      "text/plain": [
       "                                                 title          published_at  \\\n",
       "0     Taylor Swift - You're Losing Me (From The Vault)  2023-11-29T13:00:47Z   \n",
       "1    Rent on demand starting … you guessed it, Dece...  2023-11-27T20:21:45Z   \n",
       "2       ✨🫶 My name is Taylor and I was born in 1989 🫶✨  2023-10-31T20:08:57Z   \n",
       "3        Taylor Swift - Cruel Summer (LP Giobbi Remix)  2023-10-19T00:30:06Z   \n",
       "4    Taylor Swift - Cruel Summer (Live from Taylor ...  2023-10-19T00:30:25Z   \n",
       "..                                                 ...                   ...   \n",
       "218                      First fans with my CMT Award.  2008-06-26T21:55:43Z   \n",
       "219                                         TRL Recap!  2008-06-26T21:15:51Z   \n",
       "220                                            Wannabe  2008-06-26T21:02:39Z   \n",
       "221                                                :-)  2008-06-26T20:51:09Z   \n",
       "222                                  Should've Said No  2008-06-26T15:47:41Z   \n",
       "\n",
       "    duration  view_count  \n",
       "0    PT4M39S     7278886  \n",
       "1     PT1M1S     1050064  \n",
       "2      PT19S     1196267  \n",
       "3    PT3M19S      696792  \n",
       "4    PT3M55S     3437493  \n",
       "..       ...         ...  \n",
       "218    PT11S      337626  \n",
       "219   PT3M8S      742898  \n",
       "220  PT3M45S     1217405  \n",
       "221    PT34S      805812  \n",
       "222  PT4M22S     7313288  \n",
       "\n",
       "[223 rows x 4 columns]"
      ]
     },
     "execution_count": 2,
     "metadata": {},
     "output_type": "execute_result"
    }
   ],
   "source": [
    "df = pd.read_csv(r\"/kaggle/input/taylor-swifts-youtube-stats-symphony/taylor_swift_videos.csv\")\n",
    "df"
   ]
  },
  {
   "cell_type": "code",
   "execution_count": 3,
   "id": "28bae218",
   "metadata": {
    "execution": {
     "iopub.execute_input": "2024-01-13T15:58:01.298605Z",
     "iopub.status.busy": "2024-01-13T15:58:01.297767Z",
     "iopub.status.idle": "2024-01-13T15:58:01.329511Z",
     "shell.execute_reply": "2024-01-13T15:58:01.328243Z"
    },
    "papermill": {
     "duration": 0.039435,
     "end_time": "2024-01-13T15:58:01.332211",
     "exception": false,
     "start_time": "2024-01-13T15:58:01.292776",
     "status": "completed"
    },
    "tags": []
   },
   "outputs": [
    {
     "name": "stdout",
     "output_type": "stream",
     "text": [
      "DataFrame Information:\n",
      "------------------------------\n",
      "DF Shape:  (223, 4)\n",
      "number of Columns:  4\n",
      "number of Observations:  223\n",
      "Number of values in df:  892\n",
      "Total Number of Missing values in df:  0\n",
      "percentage of Missing values :  0.00 %\n",
      "Total Number of Duplicated records in df :  0\n",
      "percentage of Duplicated values :  0.00 %\n"
     ]
    }
   ],
   "source": [
    "print(\"DataFrame Information:\")\n",
    "print(\"-\" * 30)\n",
    "print('DF Shape: ' ,df.shape)\n",
    "print('number of Columns: ' ,len(df.columns))\n",
    "print('number of Observations: ' ,len(df))\n",
    "print('Number of values in df: ' , df.count().sum())\n",
    "print('Total Number of Missing values in df: ' , df.isna().sum().sum())\n",
    "print('percentage of Missing values : ' ,  \"{:.2f}\".format(df.isna().sum().sum()/df.count().sum() *100),'%')\n",
    "print('Total Number of Duplicated records in df : ' , df.duplicated().sum().sum())\n",
    "print('percentage of Duplicated values : ' ,  \"{:.2f}\".format(df.duplicated().sum().sum()/df.count().sum() *100),'%')"
   ]
  },
  {
   "cell_type": "code",
   "execution_count": 4,
   "id": "ce1825d5",
   "metadata": {
    "execution": {
     "iopub.execute_input": "2024-01-13T15:58:01.342441Z",
     "iopub.status.busy": "2024-01-13T15:58:01.342033Z",
     "iopub.status.idle": "2024-01-13T15:58:01.363943Z",
     "shell.execute_reply": "2024-01-13T15:58:01.362862Z"
    },
    "papermill": {
     "duration": 0.030313,
     "end_time": "2024-01-13T15:58:01.366781",
     "exception": false,
     "start_time": "2024-01-13T15:58:01.336468",
     "status": "completed"
    },
    "tags": []
   },
   "outputs": [
    {
     "name": "stdout",
     "output_type": "stream",
     "text": [
      "<class 'pandas.core.frame.DataFrame'>\n",
      "RangeIndex: 223 entries, 0 to 222\n",
      "Data columns (total 4 columns):\n",
      " #   Column        Non-Null Count  Dtype \n",
      "---  ------        --------------  ----- \n",
      " 0   title         223 non-null    object\n",
      " 1   published_at  223 non-null    object\n",
      " 2   duration      223 non-null    object\n",
      " 3   view_count    223 non-null    int64 \n",
      "dtypes: int64(1), object(3)\n",
      "memory usage: 7.1+ KB\n"
     ]
    }
   ],
   "source": [
    "df.info()"
   ]
  },
  {
   "cell_type": "code",
   "execution_count": 5,
   "id": "50c512a1",
   "metadata": {
    "execution": {
     "iopub.execute_input": "2024-01-13T15:58:01.377603Z",
     "iopub.status.busy": "2024-01-13T15:58:01.376856Z",
     "iopub.status.idle": "2024-01-13T15:58:01.391401Z",
     "shell.execute_reply": "2024-01-13T15:58:01.390268Z"
    },
    "papermill": {
     "duration": 0.023166,
     "end_time": "2024-01-13T15:58:01.394156",
     "exception": false,
     "start_time": "2024-01-13T15:58:01.370990",
     "status": "completed"
    },
    "tags": []
   },
   "outputs": [],
   "source": [
    "df['published_at'] = pd.to_datetime(df['published_at'])"
   ]
  },
  {
   "cell_type": "code",
   "execution_count": 6,
   "id": "ee116914",
   "metadata": {
    "execution": {
     "iopub.execute_input": "2024-01-13T15:58:01.404969Z",
     "iopub.status.busy": "2024-01-13T15:58:01.404251Z",
     "iopub.status.idle": "2024-01-13T15:58:01.413738Z",
     "shell.execute_reply": "2024-01-13T15:58:01.412594Z"
    },
    "papermill": {
     "duration": 0.017756,
     "end_time": "2024-01-13T15:58:01.416194",
     "exception": false,
     "start_time": "2024-01-13T15:58:01.398438",
     "status": "completed"
    },
    "tags": []
   },
   "outputs": [],
   "source": [
    "from datetime import time\n",
    "def fromat_duration(value):\n",
    "    s = value.strip('PT')\n",
    "    s = s.split('M')\n",
    "    if len(s) > 1:\n",
    "        if s[1] != '':\n",
    "            sec = s[1].strip('S')\n",
    "        else:\n",
    "            sec = 0\n",
    "        min = s[0]\n",
    "    else:\n",
    "        min = '0'\n",
    "        sec = s[0].strip('S')\n",
    "\n",
    "    return time(minute= int(min) , second=int(sec))\n",
    "\n",
    "\n",
    "df['duration'] = df['duration'].apply(fromat_duration)\n",
    "\n",
    "\n",
    "\n",
    "    "
   ]
  },
  {
   "cell_type": "code",
   "execution_count": 7,
   "id": "af59bad2",
   "metadata": {
    "execution": {
     "iopub.execute_input": "2024-01-13T15:58:01.426859Z",
     "iopub.status.busy": "2024-01-13T15:58:01.426103Z",
     "iopub.status.idle": "2024-01-13T15:58:01.441852Z",
     "shell.execute_reply": "2024-01-13T15:58:01.440862Z"
    },
    "papermill": {
     "duration": 0.023642,
     "end_time": "2024-01-13T15:58:01.444148",
     "exception": false,
     "start_time": "2024-01-13T15:58:01.420506",
     "status": "completed"
    },
    "tags": []
   },
   "outputs": [
    {
     "data": {
      "text/html": [
       "<div>\n",
       "<style scoped>\n",
       "    .dataframe tbody tr th:only-of-type {\n",
       "        vertical-align: middle;\n",
       "    }\n",
       "\n",
       "    .dataframe tbody tr th {\n",
       "        vertical-align: top;\n",
       "    }\n",
       "\n",
       "    .dataframe thead th {\n",
       "        text-align: right;\n",
       "    }\n",
       "</style>\n",
       "<table border=\"1\" class=\"dataframe\">\n",
       "  <thead>\n",
       "    <tr style=\"text-align: right;\">\n",
       "      <th></th>\n",
       "      <th>title</th>\n",
       "      <th>published_at</th>\n",
       "      <th>duration</th>\n",
       "      <th>view_count</th>\n",
       "    </tr>\n",
       "  </thead>\n",
       "  <tbody>\n",
       "    <tr>\n",
       "      <th>0</th>\n",
       "      <td>Taylor Swift - You're Losing Me (From The Vault)</td>\n",
       "      <td>2023-11-29 13:00:47+00:00</td>\n",
       "      <td>00:04:39</td>\n",
       "      <td>7278886</td>\n",
       "    </tr>\n",
       "    <tr>\n",
       "      <th>1</th>\n",
       "      <td>Rent on demand starting … you guessed it, Dece...</td>\n",
       "      <td>2023-11-27 20:21:45+00:00</td>\n",
       "      <td>00:01:01</td>\n",
       "      <td>1050064</td>\n",
       "    </tr>\n",
       "    <tr>\n",
       "      <th>2</th>\n",
       "      <td>✨🫶 My name is Taylor and I was born in 1989 🫶✨</td>\n",
       "      <td>2023-10-31 20:08:57+00:00</td>\n",
       "      <td>00:00:19</td>\n",
       "      <td>1196267</td>\n",
       "    </tr>\n",
       "    <tr>\n",
       "      <th>3</th>\n",
       "      <td>Taylor Swift - Cruel Summer (LP Giobbi Remix)</td>\n",
       "      <td>2023-10-19 00:30:06+00:00</td>\n",
       "      <td>00:03:19</td>\n",
       "      <td>696792</td>\n",
       "    </tr>\n",
       "    <tr>\n",
       "      <th>4</th>\n",
       "      <td>Taylor Swift - Cruel Summer (Live from Taylor ...</td>\n",
       "      <td>2023-10-19 00:30:25+00:00</td>\n",
       "      <td>00:03:55</td>\n",
       "      <td>3437493</td>\n",
       "    </tr>\n",
       "    <tr>\n",
       "      <th>...</th>\n",
       "      <td>...</td>\n",
       "      <td>...</td>\n",
       "      <td>...</td>\n",
       "      <td>...</td>\n",
       "    </tr>\n",
       "    <tr>\n",
       "      <th>218</th>\n",
       "      <td>First fans with my CMT Award.</td>\n",
       "      <td>2008-06-26 21:55:43+00:00</td>\n",
       "      <td>00:00:11</td>\n",
       "      <td>337626</td>\n",
       "    </tr>\n",
       "    <tr>\n",
       "      <th>219</th>\n",
       "      <td>TRL Recap!</td>\n",
       "      <td>2008-06-26 21:15:51+00:00</td>\n",
       "      <td>00:03:08</td>\n",
       "      <td>742898</td>\n",
       "    </tr>\n",
       "    <tr>\n",
       "      <th>220</th>\n",
       "      <td>Wannabe</td>\n",
       "      <td>2008-06-26 21:02:39+00:00</td>\n",
       "      <td>00:03:45</td>\n",
       "      <td>1217405</td>\n",
       "    </tr>\n",
       "    <tr>\n",
       "      <th>221</th>\n",
       "      <td>:-)</td>\n",
       "      <td>2008-06-26 20:51:09+00:00</td>\n",
       "      <td>00:00:34</td>\n",
       "      <td>805812</td>\n",
       "    </tr>\n",
       "    <tr>\n",
       "      <th>222</th>\n",
       "      <td>Should've Said No</td>\n",
       "      <td>2008-06-26 15:47:41+00:00</td>\n",
       "      <td>00:04:22</td>\n",
       "      <td>7313288</td>\n",
       "    </tr>\n",
       "  </tbody>\n",
       "</table>\n",
       "<p>223 rows × 4 columns</p>\n",
       "</div>"
      ],
      "text/plain": [
       "                                                 title  \\\n",
       "0     Taylor Swift - You're Losing Me (From The Vault)   \n",
       "1    Rent on demand starting … you guessed it, Dece...   \n",
       "2       ✨🫶 My name is Taylor and I was born in 1989 🫶✨   \n",
       "3        Taylor Swift - Cruel Summer (LP Giobbi Remix)   \n",
       "4    Taylor Swift - Cruel Summer (Live from Taylor ...   \n",
       "..                                                 ...   \n",
       "218                      First fans with my CMT Award.   \n",
       "219                                         TRL Recap!   \n",
       "220                                            Wannabe   \n",
       "221                                                :-)   \n",
       "222                                  Should've Said No   \n",
       "\n",
       "                 published_at  duration  view_count  \n",
       "0   2023-11-29 13:00:47+00:00  00:04:39     7278886  \n",
       "1   2023-11-27 20:21:45+00:00  00:01:01     1050064  \n",
       "2   2023-10-31 20:08:57+00:00  00:00:19     1196267  \n",
       "3   2023-10-19 00:30:06+00:00  00:03:19      696792  \n",
       "4   2023-10-19 00:30:25+00:00  00:03:55     3437493  \n",
       "..                        ...       ...         ...  \n",
       "218 2008-06-26 21:55:43+00:00  00:00:11      337626  \n",
       "219 2008-06-26 21:15:51+00:00  00:03:08      742898  \n",
       "220 2008-06-26 21:02:39+00:00  00:03:45     1217405  \n",
       "221 2008-06-26 20:51:09+00:00  00:00:34      805812  \n",
       "222 2008-06-26 15:47:41+00:00  00:04:22     7313288  \n",
       "\n",
       "[223 rows x 4 columns]"
      ]
     },
     "execution_count": 7,
     "metadata": {},
     "output_type": "execute_result"
    }
   ],
   "source": [
    "df"
   ]
  }
 ],
 "metadata": {
  "kaggle": {
   "accelerator": "none",
   "dataSources": [
    {
     "datasetId": 4254915,
     "sourceId": 7330070,
     "sourceType": "datasetVersion"
    }
   ],
   "dockerImageVersionId": 30635,
   "isGpuEnabled": false,
   "isInternetEnabled": true,
   "language": "python",
   "sourceType": "notebook"
  },
  "kernelspec": {
   "display_name": "Python 3",
   "language": "python",
   "name": "python3"
  },
  "language_info": {
   "codemirror_mode": {
    "name": "ipython",
    "version": 3
   },
   "file_extension": ".py",
   "mimetype": "text/x-python",
   "name": "python",
   "nbconvert_exporter": "python",
   "pygments_lexer": "ipython3",
   "version": "3.10.12"
  },
  "papermill": {
   "default_parameters": {},
   "duration": 7.465554,
   "end_time": "2024-01-13T15:58:02.170171",
   "environment_variables": {},
   "exception": null,
   "input_path": "__notebook__.ipynb",
   "output_path": "__notebook__.ipynb",
   "parameters": {},
   "start_time": "2024-01-13T15:57:54.704617",
   "version": "2.4.0"
  }
 },
 "nbformat": 4,
 "nbformat_minor": 5
}
